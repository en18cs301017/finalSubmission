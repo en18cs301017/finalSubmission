{
  "cells": [
    {
      "cell_type": "code",
      "source": [
        "import pandas as pd"
      ],
      "metadata": {
        "id": "Q7WnhwWzlDkA"
      },
      "execution_count": 6,
      "outputs": []
    },
    {
      "cell_type": "code",
      "source": [
        "df = pd.read_csv('/content/NSE-TATAGLOBAL11.csv')"
      ],
      "metadata": {
        "id": "8pGXIVL3mnQF"
      },
      "execution_count": 7,
      "outputs": []
    },
    {
      "cell_type": "code",
      "source": [
        "df.head()"
      ],
      "metadata": {
        "id": "gkArUIXrmnOo",
        "outputId": "6ddd4ee8-2914-4b98-946f-3fa9a753cd66",
        "colab": {
          "base_uri": "https://localhost:8080/",
          "height": 206
        }
      },
      "execution_count": 8,
      "outputs": [
        {
          "output_type": "execute_result",
          "data": {
            "text/html": [
              "\n",
              "  <div id=\"df-4416b15d-85ad-4a89-8abc-687c772016bb\">\n",
              "    <div class=\"colab-df-container\">\n",
              "      <div>\n",
              "<style scoped>\n",
              "    .dataframe tbody tr th:only-of-type {\n",
              "        vertical-align: middle;\n",
              "    }\n",
              "\n",
              "    .dataframe tbody tr th {\n",
              "        vertical-align: top;\n",
              "    }\n",
              "\n",
              "    .dataframe thead th {\n",
              "        text-align: right;\n",
              "    }\n",
              "</style>\n",
              "<table border=\"1\" class=\"dataframe\">\n",
              "  <thead>\n",
              "    <tr style=\"text-align: right;\">\n",
              "      <th></th>\n",
              "      <th>Date</th>\n",
              "      <th>Open</th>\n",
              "      <th>High</th>\n",
              "      <th>Low</th>\n",
              "      <th>Last</th>\n",
              "      <th>Close</th>\n",
              "      <th>Total Trade Quantity</th>\n",
              "      <th>Turnover (Lacs)</th>\n",
              "    </tr>\n",
              "  </thead>\n",
              "  <tbody>\n",
              "    <tr>\n",
              "      <th>0</th>\n",
              "      <td>2018-10-08</td>\n",
              "      <td>208.00</td>\n",
              "      <td>222.25</td>\n",
              "      <td>206.85</td>\n",
              "      <td>216.00</td>\n",
              "      <td>215.15</td>\n",
              "      <td>4642146.0</td>\n",
              "      <td>10062.83</td>\n",
              "    </tr>\n",
              "    <tr>\n",
              "      <th>1</th>\n",
              "      <td>2018-10-05</td>\n",
              "      <td>217.00</td>\n",
              "      <td>218.60</td>\n",
              "      <td>205.90</td>\n",
              "      <td>210.25</td>\n",
              "      <td>209.20</td>\n",
              "      <td>3519515.0</td>\n",
              "      <td>7407.06</td>\n",
              "    </tr>\n",
              "    <tr>\n",
              "      <th>2</th>\n",
              "      <td>2018-10-04</td>\n",
              "      <td>223.50</td>\n",
              "      <td>227.80</td>\n",
              "      <td>216.15</td>\n",
              "      <td>217.25</td>\n",
              "      <td>218.20</td>\n",
              "      <td>1728786.0</td>\n",
              "      <td>3815.79</td>\n",
              "    </tr>\n",
              "    <tr>\n",
              "      <th>3</th>\n",
              "      <td>2018-10-03</td>\n",
              "      <td>230.00</td>\n",
              "      <td>237.50</td>\n",
              "      <td>225.75</td>\n",
              "      <td>226.45</td>\n",
              "      <td>227.60</td>\n",
              "      <td>1708590.0</td>\n",
              "      <td>3960.27</td>\n",
              "    </tr>\n",
              "    <tr>\n",
              "      <th>4</th>\n",
              "      <td>2018-10-01</td>\n",
              "      <td>234.55</td>\n",
              "      <td>234.60</td>\n",
              "      <td>221.05</td>\n",
              "      <td>230.30</td>\n",
              "      <td>230.90</td>\n",
              "      <td>1534749.0</td>\n",
              "      <td>3486.05</td>\n",
              "    </tr>\n",
              "  </tbody>\n",
              "</table>\n",
              "</div>\n",
              "      <button class=\"colab-df-convert\" onclick=\"convertToInteractive('df-4416b15d-85ad-4a89-8abc-687c772016bb')\"\n",
              "              title=\"Convert this dataframe to an interactive table.\"\n",
              "              style=\"display:none;\">\n",
              "        \n",
              "  <svg xmlns=\"http://www.w3.org/2000/svg\" height=\"24px\"viewBox=\"0 0 24 24\"\n",
              "       width=\"24px\">\n",
              "    <path d=\"M0 0h24v24H0V0z\" fill=\"none\"/>\n",
              "    <path d=\"M18.56 5.44l.94 2.06.94-2.06 2.06-.94-2.06-.94-.94-2.06-.94 2.06-2.06.94zm-11 1L8.5 8.5l.94-2.06 2.06-.94-2.06-.94L8.5 2.5l-.94 2.06-2.06.94zm10 10l.94 2.06.94-2.06 2.06-.94-2.06-.94-.94-2.06-.94 2.06-2.06.94z\"/><path d=\"M17.41 7.96l-1.37-1.37c-.4-.4-.92-.59-1.43-.59-.52 0-1.04.2-1.43.59L10.3 9.45l-7.72 7.72c-.78.78-.78 2.05 0 2.83L4 21.41c.39.39.9.59 1.41.59.51 0 1.02-.2 1.41-.59l7.78-7.78 2.81-2.81c.8-.78.8-2.07 0-2.86zM5.41 20L4 18.59l7.72-7.72 1.47 1.35L5.41 20z\"/>\n",
              "  </svg>\n",
              "      </button>\n",
              "      \n",
              "  <style>\n",
              "    .colab-df-container {\n",
              "      display:flex;\n",
              "      flex-wrap:wrap;\n",
              "      gap: 12px;\n",
              "    }\n",
              "\n",
              "    .colab-df-convert {\n",
              "      background-color: #E8F0FE;\n",
              "      border: none;\n",
              "      border-radius: 50%;\n",
              "      cursor: pointer;\n",
              "      display: none;\n",
              "      fill: #1967D2;\n",
              "      height: 32px;\n",
              "      padding: 0 0 0 0;\n",
              "      width: 32px;\n",
              "    }\n",
              "\n",
              "    .colab-df-convert:hover {\n",
              "      background-color: #E2EBFA;\n",
              "      box-shadow: 0px 1px 2px rgba(60, 64, 67, 0.3), 0px 1px 3px 1px rgba(60, 64, 67, 0.15);\n",
              "      fill: #174EA6;\n",
              "    }\n",
              "\n",
              "    [theme=dark] .colab-df-convert {\n",
              "      background-color: #3B4455;\n",
              "      fill: #D2E3FC;\n",
              "    }\n",
              "\n",
              "    [theme=dark] .colab-df-convert:hover {\n",
              "      background-color: #434B5C;\n",
              "      box-shadow: 0px 1px 3px 1px rgba(0, 0, 0, 0.15);\n",
              "      filter: drop-shadow(0px 1px 2px rgba(0, 0, 0, 0.3));\n",
              "      fill: #FFFFFF;\n",
              "    }\n",
              "  </style>\n",
              "\n",
              "      <script>\n",
              "        const buttonEl =\n",
              "          document.querySelector('#df-4416b15d-85ad-4a89-8abc-687c772016bb button.colab-df-convert');\n",
              "        buttonEl.style.display =\n",
              "          google.colab.kernel.accessAllowed ? 'block' : 'none';\n",
              "\n",
              "        async function convertToInteractive(key) {\n",
              "          const element = document.querySelector('#df-4416b15d-85ad-4a89-8abc-687c772016bb');\n",
              "          const dataTable =\n",
              "            await google.colab.kernel.invokeFunction('convertToInteractive',\n",
              "                                                     [key], {});\n",
              "          if (!dataTable) return;\n",
              "\n",
              "          const docLinkHtml = 'Like what you see? Visit the ' +\n",
              "            '<a target=\"_blank\" href=https://colab.research.google.com/notebooks/data_table.ipynb>data table notebook</a>'\n",
              "            + ' to learn more about interactive tables.';\n",
              "          element.innerHTML = '';\n",
              "          dataTable['output_type'] = 'display_data';\n",
              "          await google.colab.output.renderOutput(dataTable, element);\n",
              "          const docLink = document.createElement('div');\n",
              "          docLink.innerHTML = docLinkHtml;\n",
              "          element.appendChild(docLink);\n",
              "        }\n",
              "      </script>\n",
              "    </div>\n",
              "  </div>\n",
              "  "
            ],
            "text/plain": [
              "         Date    Open    High     Low    Last   Close  Total Trade Quantity  \\\n",
              "0  2018-10-08  208.00  222.25  206.85  216.00  215.15             4642146.0   \n",
              "1  2018-10-05  217.00  218.60  205.90  210.25  209.20             3519515.0   \n",
              "2  2018-10-04  223.50  227.80  216.15  217.25  218.20             1728786.0   \n",
              "3  2018-10-03  230.00  237.50  225.75  226.45  227.60             1708590.0   \n",
              "4  2018-10-01  234.55  234.60  221.05  230.30  230.90             1534749.0   \n",
              "\n",
              "   Turnover (Lacs)  \n",
              "0         10062.83  \n",
              "1          7407.06  \n",
              "2          3815.79  \n",
              "3          3960.27  \n",
              "4          3486.05  "
            ]
          },
          "metadata": {},
          "execution_count": 8
        }
      ]
    },
    {
      "cell_type": "code",
      "source": [
        "df.shape"
      ],
      "metadata": {
        "id": "52oWwc4rmuru",
        "outputId": "f7020a87-67fc-4750-fa31-60c76115c704",
        "colab": {
          "base_uri": "https://localhost:8080/"
        }
      },
      "execution_count": 9,
      "outputs": [
        {
          "output_type": "execute_result",
          "data": {
            "text/plain": [
              "(1235, 8)"
            ]
          },
          "metadata": {},
          "execution_count": 9
        }
      ]
    },
    {
      "cell_type": "code",
      "source": [
        "df1=df.reset_index()['Close']"
      ],
      "metadata": {
        "id": "oWC9LKYe6Nwh"
      },
      "execution_count": 10,
      "outputs": []
    },
    {
      "cell_type": "code",
      "source": [
        "df1"
      ],
      "metadata": {
        "id": "-YhlgsW86Q34",
        "outputId": "278a1553-74d3-489f-d77c-4fedbe72af48",
        "colab": {
          "base_uri": "https://localhost:8080/"
        }
      },
      "execution_count": 11,
      "outputs": [
        {
          "output_type": "execute_result",
          "data": {
            "text/plain": [
              "0       215.15\n",
              "1       209.20\n",
              "2       218.20\n",
              "3       227.60\n",
              "4       230.90\n",
              "         ...  \n",
              "1230    159.45\n",
              "1231    160.05\n",
              "1232    160.15\n",
              "1233    155.55\n",
              "1234    155.80\n",
              "Name: Close, Length: 1235, dtype: float64"
            ]
          },
          "metadata": {},
          "execution_count": 11
        }
      ]
    },
    {
      "cell_type": "code",
      "source": [
        "import matplotlib.pyplot as plt\n",
        "plt.plot(df1)"
      ],
      "metadata": {
        "id": "yEpXEnwx6b9C",
        "outputId": "ca6f8abe-4c63-4f6f-c2f7-93f1282ab179",
        "colab": {
          "base_uri": "https://localhost:8080/",
          "height": 282
        }
      },
      "execution_count": 12,
      "outputs": [
        {
          "output_type": "execute_result",
          "data": {
            "text/plain": [
              "[<matplotlib.lines.Line2D at 0x7f91e7f1ff50>]"
            ]
          },
          "metadata": {},
          "execution_count": 12
        },
        {
          "output_type": "display_data",
          "data": {
            "image/png": "[encoded data removed]",
            "text/plain": [
              "<Figure size 432x288 with 1 Axes>"
            ]
          },
          "metadata": {
            "needs_background": "light"
          }
        }
      ]
    },
    {
      "cell_type": "markdown",
      "source": [
        "### LSTM are sensitive to the scale of the data. so we apply MinMax scaler "
      ],
      "metadata": {
        "id": "6iuig0j76mgL"
      }
    },
    {
      "cell_type": "code",
      "source": [
        "import numpy as np"
      ],
      "metadata": {
        "id": "sayP1NPc6sQ-"
      },
      "execution_count": 13,
      "outputs": []
    },
    {
      "cell_type": "code",
      "source": [
        "from sklearn.preprocessing import MinMaxScaler\n",
        "scaler=MinMaxScaler(feature_range=(0,1))\n",
        "df1=scaler.fit_transform(np.array(df1).reshape(-1,1))"
      ],
      "metadata": {
        "id": "NezwlqdK6n3v"
      },
      "execution_count": 14,
      "outputs": []
    },
    {
      "cell_type": "code",
      "source": [
        "df1"
      ],
      "metadata": {
        "id": "AnG3LOyZ6z2h",
        "outputId": "58bc0440-f12c-47e6-82bb-126ad2242306",
        "colab": {
          "base_uri": "https://localhost:8080/"
        }
      },
      "execution_count": 15,
      "outputs": [
        {
          "output_type": "execute_result",
          "data": {
            "text/plain": [
              "array([[0.50425818],\n",
              "       [0.47758853],\n",
              "       [0.51792918],\n",
              "       ...,\n",
              "       [0.25773196],\n",
              "       [0.2371134 ],\n",
              "       [0.23823398]])"
            ]
          },
          "metadata": {},
          "execution_count": 15
        }
      ]
    },
    {
      "cell_type": "code",
      "source": [
        "training_size=int(len(df1)*0.65)\n",
        "test_size=len(df1)-training_size\n",
        "train_data,test_data=df1[0:training_size,:],df1[training_size:len(df1),:1]"
      ],
      "metadata": {
        "id": "180ZEtka61pD"
      },
      "execution_count": 16,
      "outputs": []
    },
    {
      "cell_type": "code",
      "source": [
        "training_size,test_size"
      ],
      "metadata": {
        "id": "T73fBuqB7EGC",
        "outputId": "7b3f479e-aab2-4602-bbd9-e5b30adfa389",
        "colab": {
          "base_uri": "https://localhost:8080/"
        }
      },
      "execution_count": 17,
      "outputs": [
        {
          "output_type": "execute_result",
          "data": {
            "text/plain": [
              "(802, 433)"
            ]
          },
          "metadata": {},
          "execution_count": 17
        }
      ]
    },
    {
      "cell_type": "code",
      "source": [
        "import numpy\n",
        "# convert an array of values into a dataset matrix\n",
        "def create_dataset(dataset, time_step=1):\n",
        "\tdataX, dataY = [], []\n",
        "\tfor i in range(len(dataset)-time_step-1):\n",
        "\t\ta = dataset[i:(i+time_step), 0]   ###i=0, 0,1,2,3-----99   100 \n",
        "\t\tdataX.append(a)\n",
        "\t\tdataY.append(dataset[i + time_step, 0])\n",
        "\treturn numpy.array(dataX), numpy.array(dataY)"
      ],
      "metadata": {
        "id": "N7-wWoxG7Gfl"
      },
      "execution_count": 18,
      "outputs": []
    },
    {
      "cell_type": "code",
      "source": [
        "time_step = 100\n",
        "X_train, y_train = create_dataset(train_data, time_step)\n",
        "X_test, ytest = create_dataset(test_data, time_step)"
      ],
      "metadata": {
        "id": "yDSvv_Hd7NnP"
      },
      "execution_count": 19,
      "outputs": []
    },
    {
      "cell_type": "code",
      "source": [
        "print(X_train.shape), print(y_train.shape)"
      ],
      "metadata": {
        "id": "4et7wx9Y7hXj",
        "outputId": "9e1c195b-920e-4a67-a21d-c26ff748fcfa",
        "colab": {
          "base_uri": "https://localhost:8080/"
        }
      },
      "execution_count": 20,
      "outputs": [
        {
          "output_type": "stream",
          "name": "stdout",
          "text": [
            "(701, 100)\n",
            "(701,)\n"
          ]
        },
        {
          "output_type": "execute_result",
          "data": {
            "text/plain": [
              "(None, None)"
            ]
          },
          "metadata": {},
          "execution_count": 20
        }
      ]
    },
    {
      "cell_type": "code",
      "source": [
        "print(X_test.shape), print(ytest.shape)"
      ],
      "metadata": {
        "id": "vt7O1RHt7i-H",
        "outputId": "fe2effc2-a30e-4007-e881-a8dac078d9a6",
        "colab": {
          "base_uri": "https://localhost:8080/"
        }
      },
      "execution_count": 21,
      "outputs": [
        {
          "output_type": "stream",
          "name": "stdout",
          "text": [
            "(332, 100)\n",
            "(332,)\n"
          ]
        },
        {
          "output_type": "execute_result",
          "data": {
            "text/plain": [
              "(None, None)"
            ]
          },
          "metadata": {},
          "execution_count": 21
        }
      ]
    },
    {
      "cell_type": "code",
      "source": [
        "# reshape input to be [samples, time steps, features] which is required for LSTM\n",
        "X_train =X_train.reshape(X_train.shape[0],X_train.shape[1] , 1)\n",
        "X_test = X_test.reshape(X_test.shape[0],X_test.shape[1] , 1)"
      ],
      "metadata": {
        "id": "GGCl_pOL7lrn"
      },
      "execution_count": 22,
      "outputs": []
    },
    {
      "cell_type": "code",
      "source": [
        "### Create the Stacked LSTM model\n",
        "from tensorflow.keras.models import Sequential\n",
        "from tensorflow.keras.layers import Dense\n",
        "from tensorflow.keras.layers import LSTM"
      ],
      "metadata": {
        "id": "n2S-lwiP7uXx"
      },
      "execution_count": 23,
      "outputs": []
    },
    {
      "cell_type": "code",
      "source": [
        "model=Sequential()\n",
        "model.add(LSTM(50,return_sequences=True,input_shape=(100,1)))\n",
        "model.add(LSTM(50,return_sequences=True))\n",
        "model.add(LSTM(50))\n",
        "model.add(Dense(1))\n",
        "model.compile(loss='mean_squared_error',optimizer='adam')"
      ],
      "metadata": {
        "id": "PE4w3Hbv70c1"
      },
      "execution_count": 24,
      "outputs": []
    },
    {
      "cell_type": "code",
      "source": [
        "model.summary()"
      ],
      "metadata": {
        "id": "1Ugn0x6D74F7",
        "outputId": "159f3b7a-94a2-4622-a074-687917caa1d1",
        "colab": {
          "base_uri": "https://localhost:8080/"
        }
      },
      "execution_count": 25,
      "outputs": [
        {
          "output_type": "stream",
          "name": "stdout",
          "text": [
            "Model: \"sequential\"\n",
            "_________________________________________________________________\n",
            " Layer (type)                Output Shape              Param #   \n",
            "=================================================================\n",
            " lstm (LSTM)                 (None, 100, 50)           10400     \n",
            "                                                                 \n",
            " lstm_1 (LSTM)               (None, 100, 50)           20200     \n",
            "                                                                 \n",
            " lstm_2 (LSTM)               (None, 50)                20200     \n",
            "                                                                 \n",
            " dense (Dense)               (None, 1)                 51        \n",
            "                                                                 \n",
            "=================================================================\n",
            "Total params: 50,851\n",
            "Trainable params: 50,851\n",
            "Non-trainable params: 0\n",
            "_________________________________________________________________\n"
          ]
        }
      ]
    },
    {
      "cell_type": "code",
      "source": [
        "model.fit(X_train,y_train,validation_data=(X_test,ytest),epochs=100,batch_size=64,verbose=1)"
      ],
      "metadata": {
        "id": "YhFnuuDC8FhJ",
        "outputId": "8fade5dd-e858-4c99-ff2c-2a72f57e669c",
        "colab": {
          "base_uri": "https://localhost:8080/"
        }
      },
      "execution_count": 26,
      "outputs": [
        {
          "output_type": "stream",
          "name": "stdout",
          "text": [
            "Epoch 1/100\n",
            "11/11 [==============================] - 7s 234ms/step - loss: 0.0423 - val_loss: 9.2361e-04\n",
            "Epoch 2/100\n",
            "11/11 [==============================] - 1s 135ms/step - loss: 0.0077 - val_loss: 0.0031\n",
            "Epoch 3/100\n",
            "11/11 [==============================] - 1s 135ms/step - loss: 0.0050 - val_loss: 0.0020\n",
            "Epoch 4/100\n",
            "11/11 [==============================] - 1s 132ms/step - loss: 0.0031 - val_loss: 0.0012\n",
            "Epoch 5/100\n",
            "11/11 [==============================] - 1s 135ms/step - loss: 0.0029 - val_loss: 9.9522e-04\n",
            "Epoch 6/100\n",
            "11/11 [==============================] - 1s 131ms/step - loss: 0.0027 - val_loss: 9.4507e-04\n",
            "Epoch 7/100\n",
            "11/11 [==============================] - 1s 136ms/step - loss: 0.0026 - val_loss: 0.0013\n",
            "Epoch 8/100\n",
            "11/11 [==============================] - 1s 135ms/step - loss: 0.0023 - val_loss: 9.0091e-04\n",
            "Epoch 9/100\n",
            "11/11 [==============================] - 1s 132ms/step - loss: 0.0023 - val_loss: 8.5087e-04\n",
            "Epoch 10/100\n",
            "11/11 [==============================] - 1s 134ms/step - loss: 0.0021 - val_loss: 8.4761e-04\n",
            "Epoch 11/100\n",
            "11/11 [==============================] - 1s 133ms/step - loss: 0.0020 - val_loss: 8.5616e-04\n",
            "Epoch 12/100\n",
            "11/11 [==============================] - 1s 134ms/step - loss: 0.0020 - val_loss: 8.7440e-04\n",
            "Epoch 13/100\n",
            "11/11 [==============================] - 1s 135ms/step - loss: 0.0019 - val_loss: 8.1606e-04\n",
            "Epoch 14/100\n",
            "11/11 [==============================] - 1s 134ms/step - loss: 0.0018 - val_loss: 7.9204e-04\n",
            "Epoch 15/100\n",
            "11/11 [==============================] - 1s 133ms/step - loss: 0.0017 - val_loss: 9.0569e-04\n",
            "Epoch 16/100\n",
            "11/11 [==============================] - 1s 137ms/step - loss: 0.0016 - val_loss: 7.5142e-04\n",
            "Epoch 17/100\n",
            "11/11 [==============================] - 1s 136ms/step - loss: 0.0016 - val_loss: 7.6973e-04\n",
            "Epoch 18/100\n",
            "11/11 [==============================] - 1s 134ms/step - loss: 0.0015 - val_loss: 8.3591e-04\n",
            "Epoch 19/100\n",
            "11/11 [==============================] - 1s 133ms/step - loss: 0.0016 - val_loss: 7.6508e-04\n",
            "Epoch 20/100\n",
            "11/11 [==============================] - 1s 134ms/step - loss: 0.0015 - val_loss: 7.2000e-04\n",
            "Epoch 21/100\n",
            "11/11 [==============================] - 1s 136ms/step - loss: 0.0015 - val_loss: 7.5529e-04\n",
            "Epoch 22/100\n",
            "11/11 [==============================] - 1s 132ms/step - loss: 0.0014 - val_loss: 8.0273e-04\n",
            "Epoch 23/100\n",
            "11/11 [==============================] - 1s 133ms/step - loss: 0.0015 - val_loss: 6.8241e-04\n",
            "Epoch 24/100\n",
            "11/11 [==============================] - 1s 133ms/step - loss: 0.0014 - val_loss: 6.7331e-04\n",
            "Epoch 25/100\n",
            "11/11 [==============================] - 1s 133ms/step - loss: 0.0014 - val_loss: 7.8401e-04\n",
            "Epoch 26/100\n",
            "11/11 [==============================] - 1s 135ms/step - loss: 0.0014 - val_loss: 6.8474e-04\n",
            "Epoch 27/100\n",
            "11/11 [==============================] - 1s 134ms/step - loss: 0.0018 - val_loss: 6.7208e-04\n",
            "Epoch 28/100\n",
            "11/11 [==============================] - 1s 135ms/step - loss: 0.0014 - val_loss: 7.6203e-04\n",
            "Epoch 29/100\n",
            "11/11 [==============================] - 1s 133ms/step - loss: 0.0013 - val_loss: 6.8929e-04\n",
            "Epoch 30/100\n",
            "11/11 [==============================] - 1s 133ms/step - loss: 0.0012 - val_loss: 7.9186e-04\n",
            "Epoch 31/100\n",
            "11/11 [==============================] - 1s 134ms/step - loss: 0.0013 - val_loss: 6.4676e-04\n",
            "Epoch 32/100\n",
            "11/11 [==============================] - 1s 134ms/step - loss: 0.0012 - val_loss: 6.5784e-04\n",
            "Epoch 33/100\n",
            "11/11 [==============================] - 1s 135ms/step - loss: 0.0012 - val_loss: 7.8971e-04\n",
            "Epoch 34/100\n",
            "11/11 [==============================] - 1s 132ms/step - loss: 0.0012 - val_loss: 6.7604e-04\n",
            "Epoch 35/100\n",
            "11/11 [==============================] - 1s 132ms/step - loss: 0.0012 - val_loss: 8.4162e-04\n",
            "Epoch 36/100\n",
            "11/11 [==============================] - 1s 135ms/step - loss: 0.0014 - val_loss: 7.7451e-04\n",
            "Epoch 37/100\n",
            "11/11 [==============================] - 1s 133ms/step - loss: 0.0014 - val_loss: 5.8912e-04\n",
            "Epoch 38/100\n",
            "11/11 [==============================] - 1s 133ms/step - loss: 0.0011 - val_loss: 6.4872e-04\n",
            "Epoch 39/100\n",
            "11/11 [==============================] - 1s 134ms/step - loss: 0.0012 - val_loss: 7.0323e-04\n",
            "Epoch 40/100\n",
            "11/11 [==============================] - 1s 136ms/step - loss: 0.0011 - val_loss: 6.2038e-04\n",
            "Epoch 41/100\n",
            "11/11 [==============================] - 1s 133ms/step - loss: 0.0015 - val_loss: 6.7908e-04\n",
            "Epoch 42/100\n",
            "11/11 [==============================] - 1s 135ms/step - loss: 0.0011 - val_loss: 6.8685e-04\n",
            "Epoch 43/100\n",
            "11/11 [==============================] - 1s 134ms/step - loss: 0.0011 - val_loss: 7.8012e-04\n",
            "Epoch 44/100\n",
            "11/11 [==============================] - 1s 135ms/step - loss: 0.0011 - val_loss: 6.2378e-04\n",
            "Epoch 45/100\n",
            "11/11 [==============================] - 1s 134ms/step - loss: 0.0010 - val_loss: 7.5601e-04\n",
            "Epoch 46/100\n",
            "11/11 [==============================] - 1s 133ms/step - loss: 0.0010 - val_loss: 5.7253e-04\n",
            "Epoch 47/100\n",
            "11/11 [==============================] - 1s 133ms/step - loss: 0.0010 - val_loss: 6.6970e-04\n",
            "Epoch 48/100\n",
            "11/11 [==============================] - 1s 135ms/step - loss: 9.7784e-04 - val_loss: 6.8776e-04\n",
            "Epoch 49/100\n",
            "11/11 [==============================] - 1s 134ms/step - loss: 9.5545e-04 - val_loss: 5.4421e-04\n",
            "Epoch 50/100\n",
            "11/11 [==============================] - 1s 133ms/step - loss: 9.5664e-04 - val_loss: 5.3789e-04\n",
            "Epoch 51/100\n",
            "11/11 [==============================] - 1s 135ms/step - loss: 0.0011 - val_loss: 7.1742e-04\n",
            "Epoch 52/100\n",
            "11/11 [==============================] - 1s 134ms/step - loss: 9.7397e-04 - val_loss: 7.0367e-04\n",
            "Epoch 53/100\n",
            "11/11 [==============================] - 1s 135ms/step - loss: 9.2088e-04 - val_loss: 5.2995e-04\n",
            "Epoch 54/100\n",
            "11/11 [==============================] - 1s 134ms/step - loss: 9.0976e-04 - val_loss: 6.0820e-04\n",
            "Epoch 55/100\n",
            "11/11 [==============================] - 1s 134ms/step - loss: 8.8397e-04 - val_loss: 5.9034e-04\n",
            "Epoch 56/100\n",
            "11/11 [==============================] - 1s 133ms/step - loss: 9.0455e-04 - val_loss: 6.5628e-04\n",
            "Epoch 57/100\n",
            "11/11 [==============================] - 1s 134ms/step - loss: 9.2428e-04 - val_loss: 6.7186e-04\n",
            "Epoch 58/100\n",
            "11/11 [==============================] - 1s 133ms/step - loss: 8.9463e-04 - val_loss: 5.0009e-04\n",
            "Epoch 59/100\n",
            "11/11 [==============================] - 1s 132ms/step - loss: 9.2670e-04 - val_loss: 6.2190e-04\n",
            "Epoch 60/100\n",
            "11/11 [==============================] - 1s 135ms/step - loss: 8.8365e-04 - val_loss: 5.8575e-04\n",
            "Epoch 61/100\n",
            "11/11 [==============================] - 1s 134ms/step - loss: 8.1812e-04 - val_loss: 4.9618e-04\n",
            "Epoch 62/100\n",
            "11/11 [==============================] - 1s 134ms/step - loss: 8.3815e-04 - val_loss: 5.6070e-04\n",
            "Epoch 63/100\n",
            "11/11 [==============================] - 1s 135ms/step - loss: 8.7213e-04 - val_loss: 9.0972e-04\n",
            "Epoch 64/100\n",
            "11/11 [==============================] - 1s 132ms/step - loss: 0.0010 - val_loss: 4.9648e-04\n",
            "Epoch 65/100\n",
            "11/11 [==============================] - 1s 135ms/step - loss: 7.7975e-04 - val_loss: 5.4346e-04\n",
            "Epoch 66/100\n",
            "11/11 [==============================] - 1s 133ms/step - loss: 7.9628e-04 - val_loss: 7.7399e-04\n",
            "Epoch 67/100\n",
            "11/11 [==============================] - 1s 137ms/step - loss: 9.3364e-04 - val_loss: 5.2264e-04\n",
            "Epoch 68/100\n",
            "11/11 [==============================] - 1s 134ms/step - loss: 8.7566e-04 - val_loss: 0.0010\n",
            "Epoch 69/100\n",
            "11/11 [==============================] - 1s 134ms/step - loss: 7.9434e-04 - val_loss: 4.9870e-04\n",
            "Epoch 70/100\n",
            "11/11 [==============================] - 1s 133ms/step - loss: 7.5546e-04 - val_loss: 4.5617e-04\n",
            "Epoch 71/100\n",
            "11/11 [==============================] - 1s 134ms/step - loss: 7.4613e-04 - val_loss: 7.6454e-04\n",
            "Epoch 72/100\n",
            "11/11 [==============================] - 1s 135ms/step - loss: 8.6436e-04 - val_loss: 4.5085e-04\n",
            "Epoch 73/100\n",
            "11/11 [==============================] - 1s 134ms/step - loss: 7.4173e-04 - val_loss: 5.1325e-04\n",
            "Epoch 74/100\n",
            "11/11 [==============================] - 1s 133ms/step - loss: 7.2658e-04 - val_loss: 5.7800e-04\n",
            "Epoch 75/100\n",
            "11/11 [==============================] - 1s 133ms/step - loss: 6.8464e-04 - val_loss: 4.4569e-04\n",
            "Epoch 76/100\n",
            "11/11 [==============================] - 1s 137ms/step - loss: 6.9510e-04 - val_loss: 6.3897e-04\n",
            "Epoch 77/100\n",
            "11/11 [==============================] - 1s 134ms/step - loss: 6.7143e-04 - val_loss: 4.2152e-04\n",
            "Epoch 78/100\n",
            "11/11 [==============================] - 1s 136ms/step - loss: 6.7721e-04 - val_loss: 7.6502e-04\n",
            "Epoch 79/100\n",
            "11/11 [==============================] - 1s 132ms/step - loss: 7.3558e-04 - val_loss: 5.4317e-04\n",
            "Epoch 80/100\n",
            "11/11 [==============================] - 1s 135ms/step - loss: 6.9393e-04 - val_loss: 4.4186e-04\n",
            "Epoch 81/100\n",
            "11/11 [==============================] - 1s 134ms/step - loss: 6.9707e-04 - val_loss: 4.2124e-04\n",
            "Epoch 82/100\n",
            "11/11 [==============================] - 1s 134ms/step - loss: 6.7318e-04 - val_loss: 4.2634e-04\n",
            "Epoch 83/100\n",
            "11/11 [==============================] - 1s 134ms/step - loss: 8.4813e-04 - val_loss: 8.4066e-04\n",
            "Epoch 84/100\n",
            "11/11 [==============================] - 1s 133ms/step - loss: 7.1105e-04 - val_loss: 4.3898e-04\n",
            "Epoch 85/100\n",
            "11/11 [==============================] - 1s 135ms/step - loss: 7.0825e-04 - val_loss: 5.0564e-04\n",
            "Epoch 86/100\n",
            "11/11 [==============================] - 1s 135ms/step - loss: 6.7814e-04 - val_loss: 3.9388e-04\n",
            "Epoch 87/100\n",
            "11/11 [==============================] - 1s 135ms/step - loss: 6.3773e-04 - val_loss: 6.2567e-04\n",
            "Epoch 88/100\n",
            "11/11 [==============================] - 1s 136ms/step - loss: 6.0462e-04 - val_loss: 3.8071e-04\n",
            "Epoch 89/100\n",
            "11/11 [==============================] - 1s 134ms/step - loss: 5.8152e-04 - val_loss: 4.1027e-04\n",
            "Epoch 90/100\n",
            "11/11 [==============================] - 1s 135ms/step - loss: 5.4863e-04 - val_loss: 4.1207e-04\n",
            "Epoch 91/100\n",
            "11/11 [==============================] - 1s 134ms/step - loss: 5.6925e-04 - val_loss: 3.8151e-04\n",
            "Epoch 92/100\n",
            "11/11 [==============================] - 1s 135ms/step - loss: 5.7124e-04 - val_loss: 5.0452e-04\n",
            "Epoch 93/100\n",
            "11/11 [==============================] - 1s 136ms/step - loss: 5.7809e-04 - val_loss: 3.7435e-04\n",
            "Epoch 94/100\n",
            "11/11 [==============================] - 1s 135ms/step - loss: 5.3172e-04 - val_loss: 3.7584e-04\n",
            "Epoch 95/100\n",
            "11/11 [==============================] - 1s 136ms/step - loss: 5.3131e-04 - val_loss: 4.6709e-04\n",
            "Epoch 96/100\n",
            "11/11 [==============================] - 1s 135ms/step - loss: 5.0794e-04 - val_loss: 3.5656e-04\n",
            "Epoch 97/100\n",
            "11/11 [==============================] - 1s 137ms/step - loss: 5.3796e-04 - val_loss: 3.6721e-04\n",
            "Epoch 98/100\n",
            "11/11 [==============================] - 1s 135ms/step - loss: 5.6196e-04 - val_loss: 8.8535e-04\n",
            "Epoch 99/100\n",
            "11/11 [==============================] - 1s 134ms/step - loss: 0.0010 - val_loss: 3.5623e-04\n",
            "Epoch 100/100\n",
            "11/11 [==============================] - 1s 138ms/step - loss: 7.6801e-04 - val_loss: 5.1622e-04\n"
          ]
        },
        {
          "output_type": "execute_result",
          "data": {
            "text/plain": [
              "<keras.callbacks.History at 0x7f916af68050>"
            ]
          },
          "metadata": {},
          "execution_count": 26
        }
      ]
    },
    {
      "cell_type": "code",
      "source": [
        "### Lets Do the prediction and check performance metrics\n",
        "train_predict=model.predict(X_train)\n",
        "test_predict=model.predict(X_test)"
      ],
      "metadata": {
        "id": "tor8oiLYCfOd"
      },
      "execution_count": 27,
      "outputs": []
    },
    {
      "cell_type": "code",
      "source": [
        "##Transformback to original form\n",
        "train_predict=scaler.inverse_transform(train_predict)\n",
        "test_predict=scaler.inverse_transform(test_predict)"
      ],
      "metadata": {
        "id": "FjNewHplCkle"
      },
      "execution_count": 28,
      "outputs": []
    },
    {
      "cell_type": "code",
      "source": [
        "### Calculate RMSE performance metrics\n",
        "import math\n",
        "from sklearn.metrics import mean_squared_error\n",
        "math.sqrt(mean_squared_error(y_train,train_predict))\n"
      ],
      "metadata": {
        "id": "rGQJt8BTCwK_",
        "outputId": "52c4c613-3dd0-4ae9-cbb4-98240c2044a4",
        "colab": {
          "base_uri": "https://localhost:8080/"
        }
      },
      "execution_count": 29,
      "outputs": [
        {
          "output_type": "execute_result",
          "data": {
            "text/plain": [
              "176.0748106219564"
            ]
          },
          "metadata": {},
          "execution_count": 29
        }
      ]
    },
    {
      "cell_type": "code",
      "source": [
        "### Test Data RMSE\n",
        "math.sqrt(mean_squared_error(ytest,test_predict))"
      ],
      "metadata": {
        "id": "BX7WZZZmC2_9",
        "outputId": "be6fc4fd-e0a9-47a2-8dd7-b86e21ad6ace",
        "colab": {
          "base_uri": "https://localhost:8080/"
        }
      },
      "execution_count": 30,
      "outputs": [
        {
          "output_type": "execute_result",
          "data": {
            "text/plain": [
              "150.99822974190562"
            ]
          },
          "metadata": {},
          "execution_count": 30
        }
      ]
    },
    {
      "cell_type": "code",
      "source": [
        "### Plotting \n",
        "# shift train predictions for plotting\n",
        "look_back=100\n",
        "trainPredictPlot = numpy.empty_like(df1)\n",
        "trainPredictPlot[:, :] = np.nan\n",
        "trainPredictPlot[look_back:len(train_predict)+look_back, :] = train_predict\n",
        "# shift test predictions for plotting\n",
        "testPredictPlot = numpy.empty_like(df1)\n",
        "testPredictPlot[:, :] = numpy.nan\n",
        "testPredictPlot[len(train_predict)+(look_back*2)+1:len(df1)-1, :] = test_predict\n",
        "# plot baseline and predictions\n",
        "plt.plot(scaler.inverse_transform(df1))\n",
        "plt.plot(trainPredictPlot)\n",
        "plt.plot(testPredictPlot)\n",
        "plt.show()"
      ],
      "metadata": {
        "id": "9BDMS6XahhbC",
        "outputId": "0cb40db6-0c76-417e-da54-c07dfd084b0a",
        "colab": {
          "base_uri": "https://localhost:8080/",
          "height": 265
        }
      },
      "execution_count": 31,
      "outputs": [
        {
          "output_type": "display_data",
          "data": {
            "image/png": "[encoded data removed]",
            "text/plain": [
              "<Figure size 432x288 with 1 Axes>"
            ]
          },
          "metadata": {
            "needs_background": "light"
          }
        }
      ]
    },
    {
      "cell_type": "code",
      "source": [
        "len(test_data)"
      ],
      "metadata": {
        "id": "DZ787yLAhgtl",
        "outputId": "2799f972-08a8-45fc-ae87-f5dd64e175be",
        "colab": {
          "base_uri": "https://localhost:8080/"
        }
      },
      "execution_count": 32,
      "outputs": [
        {
          "output_type": "execute_result",
          "data": {
            "text/plain": [
              "433"
            ]
          },
          "metadata": {},
          "execution_count": 32
        }
      ]
    },
    {
      "cell_type": "code",
      "source": [
        "x_input=test_data[333:].reshape(1,-1)\n",
        "x_input.shape"
      ],
      "metadata": {
        "id": "pkLVQ2Vdo5v8",
        "outputId": "b21fd07e-0fde-4be4-b5fc-da4a6dcf1886",
        "colab": {
          "base_uri": "https://localhost:8080/"
        }
      },
      "execution_count": 34,
      "outputs": [
        {
          "output_type": "execute_result",
          "data": {
            "text/plain": [
              "(1, 100)"
            ]
          },
          "metadata": {},
          "execution_count": 34
        }
      ]
    },
    {
      "cell_type": "code",
      "source": [
        "temp_input=list(x_input)\n",
        "temp_input=temp_input[0].tolist()"
      ],
      "metadata": {
        "id": "taGQ1yo2o5WL"
      },
      "execution_count": 35,
      "outputs": []
    },
    {
      "cell_type": "code",
      "source": [
        "# demonstrate prediction for next 30 days\n",
        "from numpy import array\n",
        "\n",
        "lst_output=[]\n",
        "n_steps=100\n",
        "i=0\n",
        "while(i<30):\n",
        "    \n",
        "    if(len(temp_input)>100):\n",
        "        #print(temp_input)\n",
        "        x_input=np.array(temp_input[1:])\n",
        "        print(\"{} day input {}\".format(i,x_input))\n",
        "        x_input=x_input.reshape(1,-1)\n",
        "        x_input = x_input.reshape((1, n_steps, 1))\n",
        "        #print(x_input)\n",
        "        yhat = model.predict(x_input, verbose=0)\n",
        "        print(\"{} day output {}\".format(i,yhat))\n",
        "        temp_input.extend(yhat[0].tolist())\n",
        "        temp_input=temp_input[1:]\n",
        "        #print(temp_input)\n",
        "        lst_output.extend(yhat.tolist())\n",
        "        i=i+1\n",
        "    else:\n",
        "        x_input = x_input.reshape((1, n_steps,1))\n",
        "        yhat = model.predict(x_input, verbose=0)\n",
        "        print(yhat[0])\n",
        "        temp_input.extend(yhat[0].tolist())\n",
        "        print(len(temp_input))\n",
        "        lst_output.extend(yhat.tolist())\n",
        "        i=i+1\n",
        "    \n",
        "\n",
        "print(lst_output)"
      ],
      "metadata": {
        "id": "tCwhKYEvo5Tx",
        "outputId": "8623a5e3-5c55-4155-e2c6-997614335d42",
        "colab": {
          "base_uri": "https://localhost:8080/"
        }
      },
      "execution_count": 36,
      "outputs": [
        {
          "output_type": "stream",
          "name": "stdout",
          "text": [
            "[0.23345794]\n",
            "101\n",
            "1 day input [0.16651726 0.17279247 0.17951591 0.17637831 0.17234424 0.16898252\n",
            " 0.16831017 0.16248319 0.16987898 0.17525773 0.18556701 0.18915285\n",
            " 0.18354998 0.1824294  0.17256835 0.18108472 0.18153294 0.17055132\n",
            " 0.17189601 0.16943075 0.17705065 0.16270731 0.17346481 0.18646347\n",
            " 0.20416853 0.21156432 0.20259973 0.20461676 0.19520394 0.20797848\n",
            " 0.22142537 0.22142537 0.22523532 0.23890632 0.2447333  0.24406096\n",
            " 0.24137158 0.24271627 0.24069924 0.23442403 0.25930076 0.25907665\n",
            " 0.25616316 0.24831914 0.26176602 0.2447333  0.23330345 0.22613178\n",
            " 0.20103093 0.20416853 0.18870462 0.18287763 0.19049753 0.19766921\n",
            " 0.19878978 0.20080681 0.19744509 0.19520394 0.19722098 0.19229045\n",
            " 0.19789332 0.20909906 0.20730614 0.20170327 0.19004931 0.19206634\n",
            " 0.17817122 0.17548185 0.18377409 0.19139399 0.18780816 0.20192739\n",
            " 0.18511878 0.18668758 0.23263111 0.2415957  0.25750784 0.25862842\n",
            " 0.27297176 0.29112506 0.29964142 0.29157329 0.27498879 0.27947109\n",
            " 0.26781712 0.27162707 0.27431645 0.28148812 0.25145675 0.26535186\n",
            " 0.2552667  0.27588525 0.2660242  0.24831914 0.25459435 0.25728373\n",
            " 0.25773196 0.2371134  0.23823398 0.23345794]\n",
            "1 day output [[0.2283821]]\n",
            "2 day input [0.17279247 0.17951591 0.17637831 0.17234424 0.16898252 0.16831017\n",
            " 0.16248319 0.16987898 0.17525773 0.18556701 0.18915285 0.18354998\n",
            " 0.1824294  0.17256835 0.18108472 0.18153294 0.17055132 0.17189601\n",
            " 0.16943075 0.17705065 0.16270731 0.17346481 0.18646347 0.20416853\n",
            " 0.21156432 0.20259973 0.20461676 0.19520394 0.20797848 0.22142537\n",
            " 0.22142537 0.22523532 0.23890632 0.2447333  0.24406096 0.24137158\n",
            " 0.24271627 0.24069924 0.23442403 0.25930076 0.25907665 0.25616316\n",
            " 0.24831914 0.26176602 0.2447333  0.23330345 0.22613178 0.20103093\n",
            " 0.20416853 0.18870462 0.18287763 0.19049753 0.19766921 0.19878978\n",
            " 0.20080681 0.19744509 0.19520394 0.19722098 0.19229045 0.19789332\n",
            " 0.20909906 0.20730614 0.20170327 0.19004931 0.19206634 0.17817122\n",
            " 0.17548185 0.18377409 0.19139399 0.18780816 0.20192739 0.18511878\n",
            " 0.18668758 0.23263111 0.2415957  0.25750784 0.25862842 0.27297176\n",
            " 0.29112506 0.29964142 0.29157329 0.27498879 0.27947109 0.26781712\n",
            " 0.27162707 0.27431645 0.28148812 0.25145675 0.26535186 0.2552667\n",
            " 0.27588525 0.2660242  0.24831914 0.25459435 0.25728373 0.25773196\n",
            " 0.2371134  0.23823398 0.23345794 0.2283821 ]\n",
            "2 day output [[0.22324915]]\n",
            "3 day input [0.17951591 0.17637831 0.17234424 0.16898252 0.16831017 0.16248319\n",
            " 0.16987898 0.17525773 0.18556701 0.18915285 0.18354998 0.1824294\n",
            " 0.17256835 0.18108472 0.18153294 0.17055132 0.17189601 0.16943075\n",
            " 0.17705065 0.16270731 0.17346481 0.18646347 0.20416853 0.21156432\n",
            " 0.20259973 0.20461676 0.19520394 0.20797848 0.22142537 0.22142537\n",
            " 0.22523532 0.23890632 0.2447333  0.24406096 0.24137158 0.24271627\n",
            " 0.24069924 0.23442403 0.25930076 0.25907665 0.25616316 0.24831914\n",
            " 0.26176602 0.2447333  0.23330345 0.22613178 0.20103093 0.20416853\n",
            " 0.18870462 0.18287763 0.19049753 0.19766921 0.19878978 0.20080681\n",
            " 0.19744509 0.19520394 0.19722098 0.19229045 0.19789332 0.20909906\n",
            " 0.20730614 0.20170327 0.19004931 0.19206634 0.17817122 0.17548185\n",
            " 0.18377409 0.19139399 0.18780816 0.20192739 0.18511878 0.18668758\n",
            " 0.23263111 0.2415957  0.25750784 0.25862842 0.27297176 0.29112506\n",
            " 0.29964142 0.29157329 0.27498879 0.27947109 0.26781712 0.27162707\n",
            " 0.27431645 0.28148812 0.25145675 0.26535186 0.2552667  0.27588525\n",
            " 0.2660242  0.24831914 0.25459435 0.25728373 0.25773196 0.2371134\n",
            " 0.23823398 0.23345794 0.2283821  0.22324915]\n",
            "3 day output [[0.2182512]]\n",
            "4 day input [0.17637831 0.17234424 0.16898252 0.16831017 0.16248319 0.16987898\n",
            " 0.17525773 0.18556701 0.18915285 0.18354998 0.1824294  0.17256835\n",
            " 0.18108472 0.18153294 0.17055132 0.17189601 0.16943075 0.17705065\n",
            " 0.16270731 0.17346481 0.18646347 0.20416853 0.21156432 0.20259973\n",
            " 0.20461676 0.19520394 0.20797848 0.22142537 0.22142537 0.22523532\n",
            " 0.23890632 0.2447333  0.24406096 0.24137158 0.24271627 0.24069924\n",
            " 0.23442403 0.25930076 0.25907665 0.25616316 0.24831914 0.26176602\n",
            " 0.2447333  0.23330345 0.22613178 0.20103093 0.20416853 0.18870462\n",
            " 0.18287763 0.19049753 0.19766921 0.19878978 0.20080681 0.19744509\n",
            " 0.19520394 0.19722098 0.19229045 0.19789332 0.20909906 0.20730614\n",
            " 0.20170327 0.19004931 0.19206634 0.17817122 0.17548185 0.18377409\n",
            " 0.19139399 0.18780816 0.20192739 0.18511878 0.18668758 0.23263111\n",
            " 0.2415957  0.25750784 0.25862842 0.27297176 0.29112506 0.29964142\n",
            " 0.29157329 0.27498879 0.27947109 0.26781712 0.27162707 0.27431645\n",
            " 0.28148812 0.25145675 0.26535186 0.2552667  0.27588525 0.2660242\n",
            " 0.24831914 0.25459435 0.25728373 0.25773196 0.2371134  0.23823398\n",
            " 0.23345794 0.2283821  0.22324915 0.2182512 ]\n",
            "4 day output [[0.21345915]]\n",
            "5 day input [0.17234424 0.16898252 0.16831017 0.16248319 0.16987898 0.17525773\n",
            " 0.18556701 0.18915285 0.18354998 0.1824294  0.17256835 0.18108472\n",
            " 0.18153294 0.17055132 0.17189601 0.16943075 0.17705065 0.16270731\n",
            " 0.17346481 0.18646347 0.20416853 0.21156432 0.20259973 0.20461676\n",
            " 0.19520394 0.20797848 0.22142537 0.22142537 0.22523532 0.23890632\n",
            " 0.2447333  0.24406096 0.24137158 0.24271627 0.24069924 0.23442403\n",
            " 0.25930076 0.25907665 0.25616316 0.24831914 0.26176602 0.2447333\n",
            " 0.23330345 0.22613178 0.20103093 0.20416853 0.18870462 0.18287763\n",
            " 0.19049753 0.19766921 0.19878978 0.20080681 0.19744509 0.19520394\n",
            " 0.19722098 0.19229045 0.19789332 0.20909906 0.20730614 0.20170327\n",
            " 0.19004931 0.19206634 0.17817122 0.17548185 0.18377409 0.19139399\n",
            " 0.18780816 0.20192739 0.18511878 0.18668758 0.23263111 0.2415957\n",
            " 0.25750784 0.25862842 0.27297176 0.29112506 0.29964142 0.29157329\n",
            " 0.27498879 0.27947109 0.26781712 0.27162707 0.27431645 0.28148812\n",
            " 0.25145675 0.26535186 0.2552667  0.27588525 0.2660242  0.24831914\n",
            " 0.25459435 0.25728373 0.25773196 0.2371134  0.23823398 0.23345794\n",
            " 0.2283821  0.22324915 0.2182512  0.21345915]\n",
            "5 day output [[0.20889348]]\n",
            "6 day input [0.16898252 0.16831017 0.16248319 0.16987898 0.17525773 0.18556701\n",
            " 0.18915285 0.18354998 0.1824294  0.17256835 0.18108472 0.18153294\n",
            " 0.17055132 0.17189601 0.16943075 0.17705065 0.16270731 0.17346481\n",
            " 0.18646347 0.20416853 0.21156432 0.20259973 0.20461676 0.19520394\n",
            " 0.20797848 0.22142537 0.22142537 0.22523532 0.23890632 0.2447333\n",
            " 0.24406096 0.24137158 0.24271627 0.24069924 0.23442403 0.25930076\n",
            " 0.25907665 0.25616316 0.24831914 0.26176602 0.2447333  0.23330345\n",
            " 0.22613178 0.20103093 0.20416853 0.18870462 0.18287763 0.19049753\n",
            " 0.19766921 0.19878978 0.20080681 0.19744509 0.19520394 0.19722098\n",
            " 0.19229045 0.19789332 0.20909906 0.20730614 0.20170327 0.19004931\n",
            " 0.19206634 0.17817122 0.17548185 0.18377409 0.19139399 0.18780816\n",
            " 0.20192739 0.18511878 0.18668758 0.23263111 0.2415957  0.25750784\n",
            " 0.25862842 0.27297176 0.29112506 0.29964142 0.29157329 0.27498879\n",
            " 0.27947109 0.26781712 0.27162707 0.27431645 0.28148812 0.25145675\n",
            " 0.26535186 0.2552667  0.27588525 0.2660242  0.24831914 0.25459435\n",
            " 0.25728373 0.25773196 0.2371134  0.23823398 0.23345794 0.2283821\n",
            " 0.22324915 0.2182512  0.21345915 0.20889348]\n",
            "6 day output [[0.2045564]]\n",
            "7 day input [0.16831017 0.16248319 0.16987898 0.17525773 0.18556701 0.18915285\n",
            " 0.18354998 0.1824294  0.17256835 0.18108472 0.18153294 0.17055132\n",
            " 0.17189601 0.16943075 0.17705065 0.16270731 0.17346481 0.18646347\n",
            " 0.20416853 0.21156432 0.20259973 0.20461676 0.19520394 0.20797848\n",
            " 0.22142537 0.22142537 0.22523532 0.23890632 0.2447333  0.24406096\n",
            " 0.24137158 0.24271627 0.24069924 0.23442403 0.25930076 0.25907665\n",
            " 0.25616316 0.24831914 0.26176602 0.2447333  0.23330345 0.22613178\n",
            " 0.20103093 0.20416853 0.18870462 0.18287763 0.19049753 0.19766921\n",
            " 0.19878978 0.20080681 0.19744509 0.19520394 0.19722098 0.19229045\n",
            " 0.19789332 0.20909906 0.20730614 0.20170327 0.19004931 0.19206634\n",
            " 0.17817122 0.17548185 0.18377409 0.19139399 0.18780816 0.20192739\n",
            " 0.18511878 0.18668758 0.23263111 0.2415957  0.25750784 0.25862842\n",
            " 0.27297176 0.29112506 0.29964142 0.29157329 0.27498879 0.27947109\n",
            " 0.26781712 0.27162707 0.27431645 0.28148812 0.25145675 0.26535186\n",
            " 0.2552667  0.27588525 0.2660242  0.24831914 0.25459435 0.25728373\n",
            " 0.25773196 0.2371134  0.23823398 0.23345794 0.2283821  0.22324915\n",
            " 0.2182512  0.21345915 0.20889348 0.20455641]\n",
            "7 day output [[0.20044273]]\n",
            "8 day input [0.16248319 0.16987898 0.17525773 0.18556701 0.18915285 0.18354998\n",
            " 0.1824294  0.17256835 0.18108472 0.18153294 0.17055132 0.17189601\n",
            " 0.16943075 0.17705065 0.16270731 0.17346481 0.18646347 0.20416853\n",
            " 0.21156432 0.20259973 0.20461676 0.19520394 0.20797848 0.22142537\n",
            " 0.22142537 0.22523532 0.23890632 0.2447333  0.24406096 0.24137158\n",
            " 0.24271627 0.24069924 0.23442403 0.25930076 0.25907665 0.25616316\n",
            " 0.24831914 0.26176602 0.2447333  0.23330345 0.22613178 0.20103093\n",
            " 0.20416853 0.18870462 0.18287763 0.19049753 0.19766921 0.19878978\n",
            " 0.20080681 0.19744509 0.19520394 0.19722098 0.19229045 0.19789332\n",
            " 0.20909906 0.20730614 0.20170327 0.19004931 0.19206634 0.17817122\n",
            " 0.17548185 0.18377409 0.19139399 0.18780816 0.20192739 0.18511878\n",
            " 0.18668758 0.23263111 0.2415957  0.25750784 0.25862842 0.27297176\n",
            " 0.29112506 0.29964142 0.29157329 0.27498879 0.27947109 0.26781712\n",
            " 0.27162707 0.27431645 0.28148812 0.25145675 0.26535186 0.2552667\n",
            " 0.27588525 0.2660242  0.24831914 0.25459435 0.25728373 0.25773196\n",
            " 0.2371134  0.23823398 0.23345794 0.2283821  0.22324915 0.2182512\n",
            " 0.21345915 0.20889348 0.20455641 0.20044273]\n",
            "8 day output [[0.19654289]]\n",
            "9 day input [0.16987898 0.17525773 0.18556701 0.18915285 0.18354998 0.1824294\n",
            " 0.17256835 0.18108472 0.18153294 0.17055132 0.17189601 0.16943075\n",
            " 0.17705065 0.16270731 0.17346481 0.18646347 0.20416853 0.21156432\n",
            " 0.20259973 0.20461676 0.19520394 0.20797848 0.22142537 0.22142537\n",
            " 0.22523532 0.23890632 0.2447333  0.24406096 0.24137158 0.24271627\n",
            " 0.24069924 0.23442403 0.25930076 0.25907665 0.25616316 0.24831914\n",
            " 0.26176602 0.2447333  0.23330345 0.22613178 0.20103093 0.20416853\n",
            " 0.18870462 0.18287763 0.19049753 0.19766921 0.19878978 0.20080681\n",
            " 0.19744509 0.19520394 0.19722098 0.19229045 0.19789332 0.20909906\n",
            " 0.20730614 0.20170327 0.19004931 0.19206634 0.17817122 0.17548185\n",
            " 0.18377409 0.19139399 0.18780816 0.20192739 0.18511878 0.18668758\n",
            " 0.23263111 0.2415957  0.25750784 0.25862842 0.27297176 0.29112506\n",
            " 0.29964142 0.29157329 0.27498879 0.27947109 0.26781712 0.27162707\n",
            " 0.27431645 0.28148812 0.25145675 0.26535186 0.2552667  0.27588525\n",
            " 0.2660242  0.24831914 0.25459435 0.25728373 0.25773196 0.2371134\n",
            " 0.23823398 0.23345794 0.2283821  0.22324915 0.2182512  0.21345915\n",
            " 0.20889348 0.20455641 0.20044273 0.19654289]\n",
            "9 day output [[0.19284353]]\n",
            "10 day input [0.17525773 0.18556701 0.18915285 0.18354998 0.1824294  0.17256835\n",
            " 0.18108472 0.18153294 0.17055132 0.17189601 0.16943075 0.17705065\n",
            " 0.16270731 0.17346481 0.18646347 0.20416853 0.21156432 0.20259973\n",
            " 0.20461676 0.19520394 0.20797848 0.22142537 0.22142537 0.22523532\n",
            " 0.23890632 0.2447333  0.24406096 0.24137158 0.24271627 0.24069924\n",
            " 0.23442403 0.25930076 0.25907665 0.25616316 0.24831914 0.26176602\n",
            " 0.2447333  0.23330345 0.22613178 0.20103093 0.20416853 0.18870462\n",
            " 0.18287763 0.19049753 0.19766921 0.19878978 0.20080681 0.19744509\n",
            " 0.19520394 0.19722098 0.19229045 0.19789332 0.20909906 0.20730614\n",
            " 0.20170327 0.19004931 0.19206634 0.17817122 0.17548185 0.18377409\n",
            " 0.19139399 0.18780816 0.20192739 0.18511878 0.18668758 0.23263111\n",
            " 0.2415957  0.25750784 0.25862842 0.27297176 0.29112506 0.29964142\n",
            " 0.29157329 0.27498879 0.27947109 0.26781712 0.27162707 0.27431645\n",
            " 0.28148812 0.25145675 0.26535186 0.2552667  0.27588525 0.2660242\n",
            " 0.24831914 0.25459435 0.25728373 0.25773196 0.2371134  0.23823398\n",
            " 0.23345794 0.2283821  0.22324915 0.2182512  0.21345915 0.20889348\n",
            " 0.20455641 0.20044273 0.19654289 0.19284353]\n",
            "10 day output [[0.1893286]]\n",
            "11 day input [0.18556701 0.18915285 0.18354998 0.1824294  0.17256835 0.18108472\n",
            " 0.18153294 0.17055132 0.17189601 0.16943075 0.17705065 0.16270731\n",
            " 0.17346481 0.18646347 0.20416853 0.21156432 0.20259973 0.20461676\n",
            " 0.19520394 0.20797848 0.22142537 0.22142537 0.22523532 0.23890632\n",
            " 0.2447333  0.24406096 0.24137158 0.24271627 0.24069924 0.23442403\n",
            " 0.25930076 0.25907665 0.25616316 0.24831914 0.26176602 0.2447333\n",
            " 0.23330345 0.22613178 0.20103093 0.20416853 0.18870462 0.18287763\n",
            " 0.19049753 0.19766921 0.19878978 0.20080681 0.19744509 0.19520394\n",
            " 0.19722098 0.19229045 0.19789332 0.20909906 0.20730614 0.20170327\n",
            " 0.19004931 0.19206634 0.17817122 0.17548185 0.18377409 0.19139399\n",
            " 0.18780816 0.20192739 0.18511878 0.18668758 0.23263111 0.2415957\n",
            " 0.25750784 0.25862842 0.27297176 0.29112506 0.29964142 0.29157329\n",
            " 0.27498879 0.27947109 0.26781712 0.27162707 0.27431645 0.28148812\n",
            " 0.25145675 0.26535186 0.2552667  0.27588525 0.2660242  0.24831914\n",
            " 0.25459435 0.25728373 0.25773196 0.2371134  0.23823398 0.23345794\n",
            " 0.2283821  0.22324915 0.2182512  0.21345915 0.20889348 0.20455641\n",
            " 0.20044273 0.19654289 0.19284353 0.1893286 ]\n",
            "11 day output [[0.18598036]]\n",
            "12 day input [0.18915285 0.18354998 0.1824294  0.17256835 0.18108472 0.18153294\n",
            " 0.17055132 0.17189601 0.16943075 0.17705065 0.16270731 0.17346481\n",
            " 0.18646347 0.20416853 0.21156432 0.20259973 0.20461676 0.19520394\n",
            " 0.20797848 0.22142537 0.22142537 0.22523532 0.23890632 0.2447333\n",
            " 0.24406096 0.24137158 0.24271627 0.24069924 0.23442403 0.25930076\n",
            " 0.25907665 0.25616316 0.24831914 0.26176602 0.2447333  0.23330345\n",
            " 0.22613178 0.20103093 0.20416853 0.18870462 0.18287763 0.19049753\n",
            " 0.19766921 0.19878978 0.20080681 0.19744509 0.19520394 0.19722098\n",
            " 0.19229045 0.19789332 0.20909906 0.20730614 0.20170327 0.19004931\n",
            " 0.19206634 0.17817122 0.17548185 0.18377409 0.19139399 0.18780816\n",
            " 0.20192739 0.18511878 0.18668758 0.23263111 0.2415957  0.25750784\n",
            " 0.25862842 0.27297176 0.29112506 0.29964142 0.29157329 0.27498879\n",
            " 0.27947109 0.26781712 0.27162707 0.27431645 0.28148812 0.25145675\n",
            " 0.26535186 0.2552667  0.27588525 0.2660242  0.24831914 0.25459435\n",
            " 0.25728373 0.25773196 0.2371134  0.23823398 0.23345794 0.2283821\n",
            " 0.22324915 0.2182512  0.21345915 0.20889348 0.20455641 0.20044273\n",
            " 0.19654289 0.19284353 0.1893286  0.18598036]\n",
            "12 day output [[0.18278047]]\n",
            "13 day input [0.18354998 0.1824294  0.17256835 0.18108472 0.18153294 0.17055132\n",
            " 0.17189601 0.16943075 0.17705065 0.16270731 0.17346481 0.18646347\n",
            " 0.20416853 0.21156432 0.20259973 0.20461676 0.19520394 0.20797848\n",
            " 0.22142537 0.22142537 0.22523532 0.23890632 0.2447333  0.24406096\n",
            " 0.24137158 0.24271627 0.24069924 0.23442403 0.25930076 0.25907665\n",
            " 0.25616316 0.24831914 0.26176602 0.2447333  0.23330345 0.22613178\n",
            " 0.20103093 0.20416853 0.18870462 0.18287763 0.19049753 0.19766921\n",
            " 0.19878978 0.20080681 0.19744509 0.19520394 0.19722098 0.19229045\n",
            " 0.19789332 0.20909906 0.20730614 0.20170327 0.19004931 0.19206634\n",
            " 0.17817122 0.17548185 0.18377409 0.19139399 0.18780816 0.20192739\n",
            " 0.18511878 0.18668758 0.23263111 0.2415957  0.25750784 0.25862842\n",
            " 0.27297176 0.29112506 0.29964142 0.29157329 0.27498879 0.27947109\n",
            " 0.26781712 0.27162707 0.27431645 0.28148812 0.25145675 0.26535186\n",
            " 0.2552667  0.27588525 0.2660242  0.24831914 0.25459435 0.25728373\n",
            " 0.25773196 0.2371134  0.23823398 0.23345794 0.2283821  0.22324915\n",
            " 0.2182512  0.21345915 0.20889348 0.20455641 0.20044273 0.19654289\n",
            " 0.19284353 0.1893286  0.18598036 0.18278047]\n",
            "13 day output [[0.17971101]]\n",
            "14 day input [0.1824294  0.17256835 0.18108472 0.18153294 0.17055132 0.17189601\n",
            " 0.16943075 0.17705065 0.16270731 0.17346481 0.18646347 0.20416853\n",
            " 0.21156432 0.20259973 0.20461676 0.19520394 0.20797848 0.22142537\n",
            " 0.22142537 0.22523532 0.23890632 0.2447333  0.24406096 0.24137158\n",
            " 0.24271627 0.24069924 0.23442403 0.25930076 0.25907665 0.25616316\n",
            " 0.24831914 0.26176602 0.2447333  0.23330345 0.22613178 0.20103093\n",
            " 0.20416853 0.18870462 0.18287763 0.19049753 0.19766921 0.19878978\n",
            " 0.20080681 0.19744509 0.19520394 0.19722098 0.19229045 0.19789332\n",
            " 0.20909906 0.20730614 0.20170327 0.19004931 0.19206634 0.17817122\n",
            " 0.17548185 0.18377409 0.19139399 0.18780816 0.20192739 0.18511878\n",
            " 0.18668758 0.23263111 0.2415957  0.25750784 0.25862842 0.27297176\n",
            " 0.29112506 0.29964142 0.29157329 0.27498879 0.27947109 0.26781712\n",
            " 0.27162707 0.27431645 0.28148812 0.25145675 0.26535186 0.2552667\n",
            " 0.27588525 0.2660242  0.24831914 0.25459435 0.25728373 0.25773196\n",
            " 0.2371134  0.23823398 0.23345794 0.2283821  0.22324915 0.2182512\n",
            " 0.21345915 0.20889348 0.20455641 0.20044273 0.19654289 0.19284353\n",
            " 0.1893286  0.18598036 0.18278047 0.17971101]\n",
            "14 day output [[0.17675546]]\n",
            "15 day input [0.17256835 0.18108472 0.18153294 0.17055132 0.17189601 0.16943075\n",
            " 0.17705065 0.16270731 0.17346481 0.18646347 0.20416853 0.21156432\n",
            " 0.20259973 0.20461676 0.19520394 0.20797848 0.22142537 0.22142537\n",
            " 0.22523532 0.23890632 0.2447333  0.24406096 0.24137158 0.24271627\n",
            " 0.24069924 0.23442403 0.25930076 0.25907665 0.25616316 0.24831914\n",
            " 0.26176602 0.2447333  0.23330345 0.22613178 0.20103093 0.20416853\n",
            " 0.18870462 0.18287763 0.19049753 0.19766921 0.19878978 0.20080681\n",
            " 0.19744509 0.19520394 0.19722098 0.19229045 0.19789332 0.20909906\n",
            " 0.20730614 0.20170327 0.19004931 0.19206634 0.17817122 0.17548185\n",
            " 0.18377409 0.19139399 0.18780816 0.20192739 0.18511878 0.18668758\n",
            " 0.23263111 0.2415957  0.25750784 0.25862842 0.27297176 0.29112506\n",
            " 0.29964142 0.29157329 0.27498879 0.27947109 0.26781712 0.27162707\n",
            " 0.27431645 0.28148812 0.25145675 0.26535186 0.2552667  0.27588525\n",
            " 0.2660242  0.24831914 0.25459435 0.25728373 0.25773196 0.2371134\n",
            " 0.23823398 0.23345794 0.2283821  0.22324915 0.2182512  0.21345915\n",
            " 0.20889348 0.20455641 0.20044273 0.19654289 0.19284353 0.1893286\n",
            " 0.18598036 0.18278047 0.17971101 0.17675546]\n",
            "15 day output [[0.17389907]]\n",
            "16 day input [0.18108472 0.18153294 0.17055132 0.17189601 0.16943075 0.17705065\n",
            " 0.16270731 0.17346481 0.18646347 0.20416853 0.21156432 0.20259973\n",
            " 0.20461676 0.19520394 0.20797848 0.22142537 0.22142537 0.22523532\n",
            " 0.23890632 0.2447333  0.24406096 0.24137158 0.24271627 0.24069924\n",
            " 0.23442403 0.25930076 0.25907665 0.25616316 0.24831914 0.26176602\n",
            " 0.2447333  0.23330345 0.22613178 0.20103093 0.20416853 0.18870462\n",
            " 0.18287763 0.19049753 0.19766921 0.19878978 0.20080681 0.19744509\n",
            " 0.19520394 0.19722098 0.19229045 0.19789332 0.20909906 0.20730614\n",
            " 0.20170327 0.19004931 0.19206634 0.17817122 0.17548185 0.18377409\n",
            " 0.19139399 0.18780816 0.20192739 0.18511878 0.18668758 0.23263111\n",
            " 0.2415957  0.25750784 0.25862842 0.27297176 0.29112506 0.29964142\n",
            " 0.29157329 0.27498879 0.27947109 0.26781712 0.27162707 0.27431645\n",
            " 0.28148812 0.25145675 0.26535186 0.2552667  0.27588525 0.2660242\n",
            " 0.24831914 0.25459435 0.25728373 0.25773196 0.2371134  0.23823398\n",
            " 0.23345794 0.2283821  0.22324915 0.2182512  0.21345915 0.20889348\n",
            " 0.20455641 0.20044273 0.19654289 0.19284353 0.1893286  0.18598036\n",
            " 0.18278047 0.17971101 0.17675546 0.17389907]\n",
            "16 day output [[0.17112921]]\n",
            "17 day input [0.18153294 0.17055132 0.17189601 0.16943075 0.17705065 0.16270731\n",
            " 0.17346481 0.18646347 0.20416853 0.21156432 0.20259973 0.20461676\n",
            " 0.19520394 0.20797848 0.22142537 0.22142537 0.22523532 0.23890632\n",
            " 0.2447333  0.24406096 0.24137158 0.24271627 0.24069924 0.23442403\n",
            " 0.25930076 0.25907665 0.25616316 0.24831914 0.26176602 0.2447333\n",
            " 0.23330345 0.22613178 0.20103093 0.20416853 0.18870462 0.18287763\n",
            " 0.19049753 0.19766921 0.19878978 0.20080681 0.19744509 0.19520394\n",
            " 0.19722098 0.19229045 0.19789332 0.20909906 0.20730614 0.20170327\n",
            " 0.19004931 0.19206634 0.17817122 0.17548185 0.18377409 0.19139399\n",
            " 0.18780816 0.20192739 0.18511878 0.18668758 0.23263111 0.2415957\n",
            " 0.25750784 0.25862842 0.27297176 0.29112506 0.29964142 0.29157329\n",
            " 0.27498879 0.27947109 0.26781712 0.27162707 0.27431645 0.28148812\n",
            " 0.25145675 0.26535186 0.2552667  0.27588525 0.2660242  0.24831914\n",
            " 0.25459435 0.25728373 0.25773196 0.2371134  0.23823398 0.23345794\n",
            " 0.2283821  0.22324915 0.2182512  0.21345915 0.20889348 0.20455641\n",
            " 0.20044273 0.19654289 0.19284353 0.1893286  0.18598036 0.18278047\n",
            " 0.17971101 0.17675546 0.17389907 0.17112921]\n",
            "17 day output [[0.16843562]]\n",
            "18 day input [0.17055132 0.17189601 0.16943075 0.17705065 0.16270731 0.17346481\n",
            " 0.18646347 0.20416853 0.21156432 0.20259973 0.20461676 0.19520394\n",
            " 0.20797848 0.22142537 0.22142537 0.22523532 0.23890632 0.2447333\n",
            " 0.24406096 0.24137158 0.24271627 0.24069924 0.23442403 0.25930076\n",
            " 0.25907665 0.25616316 0.24831914 0.26176602 0.2447333  0.23330345\n",
            " 0.22613178 0.20103093 0.20416853 0.18870462 0.18287763 0.19049753\n",
            " 0.19766921 0.19878978 0.20080681 0.19744509 0.19520394 0.19722098\n",
            " 0.19229045 0.19789332 0.20909906 0.20730614 0.20170327 0.19004931\n",
            " 0.19206634 0.17817122 0.17548185 0.18377409 0.19139399 0.18780816\n",
            " 0.20192739 0.18511878 0.18668758 0.23263111 0.2415957  0.25750784\n",
            " 0.25862842 0.27297176 0.29112506 0.29964142 0.29157329 0.27498879\n",
            " 0.27947109 0.26781712 0.27162707 0.27431645 0.28148812 0.25145675\n",
            " 0.26535186 0.2552667  0.27588525 0.2660242  0.24831914 0.25459435\n",
            " 0.25728373 0.25773196 0.2371134  0.23823398 0.23345794 0.2283821\n",
            " 0.22324915 0.2182512  0.21345915 0.20889348 0.20455641 0.20044273\n",
            " 0.19654289 0.19284353 0.1893286  0.18598036 0.18278047 0.17971101\n",
            " 0.17675546 0.17389907 0.17112921 0.16843562]\n",
            "18 day output [[0.1658103]]\n",
            "19 day input [0.17189601 0.16943075 0.17705065 0.16270731 0.17346481 0.18646347\n",
            " 0.20416853 0.21156432 0.20259973 0.20461676 0.19520394 0.20797848\n",
            " 0.22142537 0.22142537 0.22523532 0.23890632 0.2447333  0.24406096\n",
            " 0.24137158 0.24271627 0.24069924 0.23442403 0.25930076 0.25907665\n",
            " 0.25616316 0.24831914 0.26176602 0.2447333  0.23330345 0.22613178\n",
            " 0.20103093 0.20416853 0.18870462 0.18287763 0.19049753 0.19766921\n",
            " 0.19878978 0.20080681 0.19744509 0.19520394 0.19722098 0.19229045\n",
            " 0.19789332 0.20909906 0.20730614 0.20170327 0.19004931 0.19206634\n",
            " 0.17817122 0.17548185 0.18377409 0.19139399 0.18780816 0.20192739\n",
            " 0.18511878 0.18668758 0.23263111 0.2415957  0.25750784 0.25862842\n",
            " 0.27297176 0.29112506 0.29964142 0.29157329 0.27498879 0.27947109\n",
            " 0.26781712 0.27162707 0.27431645 0.28148812 0.25145675 0.26535186\n",
            " 0.2552667  0.27588525 0.2660242  0.24831914 0.25459435 0.25728373\n",
            " 0.25773196 0.2371134  0.23823398 0.23345794 0.2283821  0.22324915\n",
            " 0.2182512  0.21345915 0.20889348 0.20455641 0.20044273 0.19654289\n",
            " 0.19284353 0.1893286  0.18598036 0.18278047 0.17971101 0.17675546\n",
            " 0.17389907 0.17112921 0.16843562 0.1658103 ]\n",
            "19 day output [[0.16324717]]\n",
            "20 day input [0.16943075 0.17705065 0.16270731 0.17346481 0.18646347 0.20416853\n",
            " 0.21156432 0.20259973 0.20461676 0.19520394 0.20797848 0.22142537\n",
            " 0.22142537 0.22523532 0.23890632 0.2447333  0.24406096 0.24137158\n",
            " 0.24271627 0.24069924 0.23442403 0.25930076 0.25907665 0.25616316\n",
            " 0.24831914 0.26176602 0.2447333  0.23330345 0.22613178 0.20103093\n",
            " 0.20416853 0.18870462 0.18287763 0.19049753 0.19766921 0.19878978\n",
            " 0.20080681 0.19744509 0.19520394 0.19722098 0.19229045 0.19789332\n",
            " 0.20909906 0.20730614 0.20170327 0.19004931 0.19206634 0.17817122\n",
            " 0.17548185 0.18377409 0.19139399 0.18780816 0.20192739 0.18511878\n",
            " 0.18668758 0.23263111 0.2415957  0.25750784 0.25862842 0.27297176\n",
            " 0.29112506 0.29964142 0.29157329 0.27498879 0.27947109 0.26781712\n",
            " 0.27162707 0.27431645 0.28148812 0.25145675 0.26535186 0.2552667\n",
            " 0.27588525 0.2660242  0.24831914 0.25459435 0.25728373 0.25773196\n",
            " 0.2371134  0.23823398 0.23345794 0.2283821  0.22324915 0.2182512\n",
            " 0.21345915 0.20889348 0.20455641 0.20044273 0.19654289 0.19284353\n",
            " 0.1893286  0.18598036 0.18278047 0.17971101 0.17675546 0.17389907\n",
            " 0.17112921 0.16843562 0.1658103  0.16324717]\n",
            "20 day output [[0.16074212]]\n",
            "21 day input [0.17705065 0.16270731 0.17346481 0.18646347 0.20416853 0.21156432\n",
            " 0.20259973 0.20461676 0.19520394 0.20797848 0.22142537 0.22142537\n",
            " 0.22523532 0.23890632 0.2447333  0.24406096 0.24137158 0.24271627\n",
            " 0.24069924 0.23442403 0.25930076 0.25907665 0.25616316 0.24831914\n",
            " 0.26176602 0.2447333  0.23330345 0.22613178 0.20103093 0.20416853\n",
            " 0.18870462 0.18287763 0.19049753 0.19766921 0.19878978 0.20080681\n",
            " 0.19744509 0.19520394 0.19722098 0.19229045 0.19789332 0.20909906\n",
            " 0.20730614 0.20170327 0.19004931 0.19206634 0.17817122 0.17548185\n",
            " 0.18377409 0.19139399 0.18780816 0.20192739 0.18511878 0.18668758\n",
            " 0.23263111 0.2415957  0.25750784 0.25862842 0.27297176 0.29112506\n",
            " 0.29964142 0.29157329 0.27498879 0.27947109 0.26781712 0.27162707\n",
            " 0.27431645 0.28148812 0.25145675 0.26535186 0.2552667  0.27588525\n",
            " 0.2660242  0.24831914 0.25459435 0.25728373 0.25773196 0.2371134\n",
            " 0.23823398 0.23345794 0.2283821  0.22324915 0.2182512  0.21345915\n",
            " 0.20889348 0.20455641 0.20044273 0.19654289 0.19284353 0.1893286\n",
            " 0.18598036 0.18278047 0.17971101 0.17675546 0.17389907 0.17112921\n",
            " 0.16843562 0.1658103  0.16324717 0.16074212]\n",
            "21 day output [[0.15829259]]\n",
            "22 day input [0.16270731 0.17346481 0.18646347 0.20416853 0.21156432 0.20259973\n",
            " 0.20461676 0.19520394 0.20797848 0.22142537 0.22142537 0.22523532\n",
            " 0.23890632 0.2447333  0.24406096 0.24137158 0.24271627 0.24069924\n",
            " 0.23442403 0.25930076 0.25907665 0.25616316 0.24831914 0.26176602\n",
            " 0.2447333  0.23330345 0.22613178 0.20103093 0.20416853 0.18870462\n",
            " 0.18287763 0.19049753 0.19766921 0.19878978 0.20080681 0.19744509\n",
            " 0.19520394 0.19722098 0.19229045 0.19789332 0.20909906 0.20730614\n",
            " 0.20170327 0.19004931 0.19206634 0.17817122 0.17548185 0.18377409\n",
            " 0.19139399 0.18780816 0.20192739 0.18511878 0.18668758 0.23263111\n",
            " 0.2415957  0.25750784 0.25862842 0.27297176 0.29112506 0.29964142\n",
            " 0.29157329 0.27498879 0.27947109 0.26781712 0.27162707 0.27431645\n",
            " 0.28148812 0.25145675 0.26535186 0.2552667  0.27588525 0.2660242\n",
            " 0.24831914 0.25459435 0.25728373 0.25773196 0.2371134  0.23823398\n",
            " 0.23345794 0.2283821  0.22324915 0.2182512  0.21345915 0.20889348\n",
            " 0.20455641 0.20044273 0.19654289 0.19284353 0.1893286  0.18598036\n",
            " 0.18278047 0.17971101 0.17675546 0.17389907 0.17112921 0.16843562\n",
            " 0.1658103  0.16324717 0.16074212 0.15829259]\n",
            "22 day output [[0.15589717]]\n",
            "23 day input [0.17346481 0.18646347 0.20416853 0.21156432 0.20259973 0.20461676\n",
            " 0.19520394 0.20797848 0.22142537 0.22142537 0.22523532 0.23890632\n",
            " 0.2447333  0.24406096 0.24137158 0.24271627 0.24069924 0.23442403\n",
            " 0.25930076 0.25907665 0.25616316 0.24831914 0.26176602 0.2447333\n",
            " 0.23330345 0.22613178 0.20103093 0.20416853 0.18870462 0.18287763\n",
            " 0.19049753 0.19766921 0.19878978 0.20080681 0.19744509 0.19520394\n",
            " 0.19722098 0.19229045 0.19789332 0.20909906 0.20730614 0.20170327\n",
            " 0.19004931 0.19206634 0.17817122 0.17548185 0.18377409 0.19139399\n",
            " 0.18780816 0.20192739 0.18511878 0.18668758 0.23263111 0.2415957\n",
            " 0.25750784 0.25862842 0.27297176 0.29112506 0.29964142 0.29157329\n",
            " 0.27498879 0.27947109 0.26781712 0.27162707 0.27431645 0.28148812\n",
            " 0.25145675 0.26535186 0.2552667  0.27588525 0.2660242  0.24831914\n",
            " 0.25459435 0.25728373 0.25773196 0.2371134  0.23823398 0.23345794\n",
            " 0.2283821  0.22324915 0.2182512  0.21345915 0.20889348 0.20455641\n",
            " 0.20044273 0.19654289 0.19284353 0.1893286  0.18598036 0.18278047\n",
            " 0.17971101 0.17675546 0.17389907 0.17112921 0.16843562 0.1658103\n",
            " 0.16324717 0.16074212 0.15829259 0.15589717]\n",
            "23 day output [[0.15355565]]\n",
            "24 day input [0.18646347 0.20416853 0.21156432 0.20259973 0.20461676 0.19520394\n",
            " 0.20797848 0.22142537 0.22142537 0.22523532 0.23890632 0.2447333\n",
            " 0.24406096 0.24137158 0.24271627 0.24069924 0.23442403 0.25930076\n",
            " 0.25907665 0.25616316 0.24831914 0.26176602 0.2447333  0.23330345\n",
            " 0.22613178 0.20103093 0.20416853 0.18870462 0.18287763 0.19049753\n",
            " 0.19766921 0.19878978 0.20080681 0.19744509 0.19520394 0.19722098\n",
            " 0.19229045 0.19789332 0.20909906 0.20730614 0.20170327 0.19004931\n",
            " 0.19206634 0.17817122 0.17548185 0.18377409 0.19139399 0.18780816\n",
            " 0.20192739 0.18511878 0.18668758 0.23263111 0.2415957  0.25750784\n",
            " 0.25862842 0.27297176 0.29112506 0.29964142 0.29157329 0.27498879\n",
            " 0.27947109 0.26781712 0.27162707 0.27431645 0.28148812 0.25145675\n",
            " 0.26535186 0.2552667  0.27588525 0.2660242  0.24831914 0.25459435\n",
            " 0.25728373 0.25773196 0.2371134  0.23823398 0.23345794 0.2283821\n",
            " 0.22324915 0.2182512  0.21345915 0.20889348 0.20455641 0.20044273\n",
            " 0.19654289 0.19284353 0.1893286  0.18598036 0.18278047 0.17971101\n",
            " 0.17675546 0.17389907 0.17112921 0.16843562 0.1658103  0.16324717\n",
            " 0.16074212 0.15829259 0.15589717 0.15355565]\n",
            "24 day output [[0.15126818]]\n",
            "25 day input [0.20416853 0.21156432 0.20259973 0.20461676 0.19520394 0.20797848\n",
            " 0.22142537 0.22142537 0.22523532 0.23890632 0.2447333  0.24406096\n",
            " 0.24137158 0.24271627 0.24069924 0.23442403 0.25930076 0.25907665\n",
            " 0.25616316 0.24831914 0.26176602 0.2447333  0.23330345 0.22613178\n",
            " 0.20103093 0.20416853 0.18870462 0.18287763 0.19049753 0.19766921\n",
            " 0.19878978 0.20080681 0.19744509 0.19520394 0.19722098 0.19229045\n",
            " 0.19789332 0.20909906 0.20730614 0.20170327 0.19004931 0.19206634\n",
            " 0.17817122 0.17548185 0.18377409 0.19139399 0.18780816 0.20192739\n",
            " 0.18511878 0.18668758 0.23263111 0.2415957  0.25750784 0.25862842\n",
            " 0.27297176 0.29112506 0.29964142 0.29157329 0.27498879 0.27947109\n",
            " 0.26781712 0.27162707 0.27431645 0.28148812 0.25145675 0.26535186\n",
            " 0.2552667  0.27588525 0.2660242  0.24831914 0.25459435 0.25728373\n",
            " 0.25773196 0.2371134  0.23823398 0.23345794 0.2283821  0.22324915\n",
            " 0.2182512  0.21345915 0.20889348 0.20455641 0.20044273 0.19654289\n",
            " 0.19284353 0.1893286  0.18598036 0.18278047 0.17971101 0.17675546\n",
            " 0.17389907 0.17112921 0.16843562 0.1658103  0.16324717 0.16074212\n",
            " 0.15829259 0.15589717 0.15355565 0.15126818]\n",
            "25 day output [[0.14903569]]\n",
            "26 day input [0.21156432 0.20259973 0.20461676 0.19520394 0.20797848 0.22142537\n",
            " 0.22142537 0.22523532 0.23890632 0.2447333  0.24406096 0.24137158\n",
            " 0.24271627 0.24069924 0.23442403 0.25930076 0.25907665 0.25616316\n",
            " 0.24831914 0.26176602 0.2447333  0.23330345 0.22613178 0.20103093\n",
            " 0.20416853 0.18870462 0.18287763 0.19049753 0.19766921 0.19878978\n",
            " 0.20080681 0.19744509 0.19520394 0.19722098 0.19229045 0.19789332\n",
            " 0.20909906 0.20730614 0.20170327 0.19004931 0.19206634 0.17817122\n",
            " 0.17548185 0.18377409 0.19139399 0.18780816 0.20192739 0.18511878\n",
            " 0.18668758 0.23263111 0.2415957  0.25750784 0.25862842 0.27297176\n",
            " 0.29112506 0.29964142 0.29157329 0.27498879 0.27947109 0.26781712\n",
            " 0.27162707 0.27431645 0.28148812 0.25145675 0.26535186 0.2552667\n",
            " 0.27588525 0.2660242  0.24831914 0.25459435 0.25728373 0.25773196\n",
            " 0.2371134  0.23823398 0.23345794 0.2283821  0.22324915 0.2182512\n",
            " 0.21345915 0.20889348 0.20455641 0.20044273 0.19654289 0.19284353\n",
            " 0.1893286  0.18598036 0.18278047 0.17971101 0.17675546 0.17389907\n",
            " 0.17112921 0.16843562 0.1658103  0.16324717 0.16074212 0.15829259\n",
            " 0.15589717 0.15355565 0.15126818 0.14903569]\n",
            "26 day output [[0.14685899]]\n",
            "27 day input [0.20259973 0.20461676 0.19520394 0.20797848 0.22142537 0.22142537\n",
            " 0.22523532 0.23890632 0.2447333  0.24406096 0.24137158 0.24271627\n",
            " 0.24069924 0.23442403 0.25930076 0.25907665 0.25616316 0.24831914\n",
            " 0.26176602 0.2447333  0.23330345 0.22613178 0.20103093 0.20416853\n",
            " 0.18870462 0.18287763 0.19049753 0.19766921 0.19878978 0.20080681\n",
            " 0.19744509 0.19520394 0.19722098 0.19229045 0.19789332 0.20909906\n",
            " 0.20730614 0.20170327 0.19004931 0.19206634 0.17817122 0.17548185\n",
            " 0.18377409 0.19139399 0.18780816 0.20192739 0.18511878 0.18668758\n",
            " 0.23263111 0.2415957  0.25750784 0.25862842 0.27297176 0.29112506\n",
            " 0.29964142 0.29157329 0.27498879 0.27947109 0.26781712 0.27162707\n",
            " 0.27431645 0.28148812 0.25145675 0.26535186 0.2552667  0.27588525\n",
            " 0.2660242  0.24831914 0.25459435 0.25728373 0.25773196 0.2371134\n",
            " 0.23823398 0.23345794 0.2283821  0.22324915 0.2182512  0.21345915\n",
            " 0.20889348 0.20455641 0.20044273 0.19654289 0.19284353 0.1893286\n",
            " 0.18598036 0.18278047 0.17971101 0.17675546 0.17389907 0.17112921\n",
            " 0.16843562 0.1658103  0.16324717 0.16074212 0.15829259 0.15589717\n",
            " 0.15355565 0.15126818 0.14903569 0.14685899]\n",
            "27 day output [[0.1447392]]\n",
            "28 day input [0.20461676 0.19520394 0.20797848 0.22142537 0.22142537 0.22523532\n",
            " 0.23890632 0.2447333  0.24406096 0.24137158 0.24271627 0.24069924\n",
            " 0.23442403 0.25930076 0.25907665 0.25616316 0.24831914 0.26176602\n",
            " 0.2447333  0.23330345 0.22613178 0.20103093 0.20416853 0.18870462\n",
            " 0.18287763 0.19049753 0.19766921 0.19878978 0.20080681 0.19744509\n",
            " 0.19520394 0.19722098 0.19229045 0.19789332 0.20909906 0.20730614\n",
            " 0.20170327 0.19004931 0.19206634 0.17817122 0.17548185 0.18377409\n",
            " 0.19139399 0.18780816 0.20192739 0.18511878 0.18668758 0.23263111\n",
            " 0.2415957  0.25750784 0.25862842 0.27297176 0.29112506 0.29964142\n",
            " 0.29157329 0.27498879 0.27947109 0.26781712 0.27162707 0.27431645\n",
            " 0.28148812 0.25145675 0.26535186 0.2552667  0.27588525 0.2660242\n",
            " 0.24831914 0.25459435 0.25728373 0.25773196 0.2371134  0.23823398\n",
            " 0.23345794 0.2283821  0.22324915 0.2182512  0.21345915 0.20889348\n",
            " 0.20455641 0.20044273 0.19654289 0.19284353 0.1893286  0.18598036\n",
            " 0.18278047 0.17971101 0.17675546 0.17389907 0.17112921 0.16843562\n",
            " 0.1658103  0.16324717 0.16074212 0.15829259 0.15589717 0.15355565\n",
            " 0.15126818 0.14903569 0.14685899 0.1447392 ]\n",
            "28 day output [[0.14267722]]\n",
            "29 day input [0.19520394 0.20797848 0.22142537 0.22142537 0.22523532 0.23890632\n",
            " 0.2447333  0.24406096 0.24137158 0.24271627 0.24069924 0.23442403\n",
            " 0.25930076 0.25907665 0.25616316 0.24831914 0.26176602 0.2447333\n",
            " 0.23330345 0.22613178 0.20103093 0.20416853 0.18870462 0.18287763\n",
            " 0.19049753 0.19766921 0.19878978 0.20080681 0.19744509 0.19520394\n",
            " 0.19722098 0.19229045 0.19789332 0.20909906 0.20730614 0.20170327\n",
            " 0.19004931 0.19206634 0.17817122 0.17548185 0.18377409 0.19139399\n",
            " 0.18780816 0.20192739 0.18511878 0.18668758 0.23263111 0.2415957\n",
            " 0.25750784 0.25862842 0.27297176 0.29112506 0.29964142 0.29157329\n",
            " 0.27498879 0.27947109 0.26781712 0.27162707 0.27431645 0.28148812\n",
            " 0.25145675 0.26535186 0.2552667  0.27588525 0.2660242  0.24831914\n",
            " 0.25459435 0.25728373 0.25773196 0.2371134  0.23823398 0.23345794\n",
            " 0.2283821  0.22324915 0.2182512  0.21345915 0.20889348 0.20455641\n",
            " 0.20044273 0.19654289 0.19284353 0.1893286  0.18598036 0.18278047\n",
            " 0.17971101 0.17675546 0.17389907 0.17112921 0.16843562 0.1658103\n",
            " 0.16324717 0.16074212 0.15829259 0.15589717 0.15355565 0.15126818\n",
            " 0.14903569 0.14685899 0.1447392  0.14267722]\n",
            "29 day output [[0.14067388]]\n",
            "[[0.23345793783664703], [0.22838209569454193], [0.223249152302742], [0.21825119853019714], [0.21345914900302887], [0.20889347791671753], [0.204556405544281], [0.20044273138046265], [0.196542888879776], [0.19284352660179138], [0.18932859599590302], [0.18598036468029022], [0.18278047442436218], [0.1797110140323639], [0.17675545811653137], [0.1738990694284439], [0.17112921178340912], [0.16843561828136444], [0.16581030189990997], [0.16324716806411743], [0.1607421189546585], [0.15829259157180786], [0.15589717030525208], [0.15355564653873444], [0.15126818418502808], [0.14903569221496582], [0.14685899019241333], [0.14473919570446014], [0.1426772177219391], [0.14067387580871582]]\n"
          ]
        }
      ]
    },
    {
      "cell_type": "code",
      "source": [
        "len(df1)"
      ],
      "metadata": {
        "id": "wdLVDeNqp_fy",
        "outputId": "a8355515-de38-4c5e-eb33-523a32d8acea",
        "colab": {
          "base_uri": "https://localhost:8080/"
        }
      },
      "execution_count": 44,
      "outputs": [
        {
          "output_type": "execute_result",
          "data": {
            "text/plain": [
              "1235"
            ]
          },
          "metadata": {},
          "execution_count": 44
        }
      ]
    },
    {
      "cell_type": "code",
      "source": [
        "plt.plot(day_new,scaler.inverse_transform(df1[1135:]))\n",
        "plt.plot(day_pred,scaler.inverse_transform(lst_output))"
      ],
      "metadata": {
        "id": "FuqeGAA1p8QT",
        "outputId": "e85499f1-9882-4f10-9457-1d70ac3d2b2b",
        "colab": {
          "base_uri": "https://localhost:8080/",
          "height": 282
        }
      },
      "execution_count": 45,
      "outputs": [
        {
          "output_type": "execute_result",
          "data": {
            "text/plain": [
              "[<matplotlib.lines.Line2D at 0x7f916a881390>]"
            ]
          },
          "metadata": {},
          "execution_count": 45
        },
        {
          "output_type": "display_data",
          "data": {
            "image/png": "[encoded data removed]",
            "text/plain": [
              "<Figure size 432x288 with 1 Axes>"
            ]
          },
          "metadata": {
            "needs_background": "light"
          }
        }
      ]
    },
    {
      "cell_type": "code",
      "source": [
        "df3=df1.tolist()\n",
        "df3.extend(lst_output)\n",
        "plt.plot(df3[1000:])"
      ],
      "metadata": {
        "id": "v1pZdAymptsu",
        "outputId": "4f1d820c-d181-45b2-d7e0-a005364746a5",
        "colab": {
          "base_uri": "https://localhost:8080/",
          "height": 282
        }
      },
      "execution_count": 43,
      "outputs": [
        {
          "output_type": "execute_result",
          "data": {
            "text/plain": [
              "[<matplotlib.lines.Line2D at 0x7f916437acd0>]"
            ]
          },
          "metadata": {},
          "execution_count": 43
        },
        {
          "output_type": "display_data",
          "data": {
            "image/png": "[encoded data removed]",
            "text/plain": [
              "<Figure size 432x288 with 1 Axes>"
            ]
          },
          "metadata": {
            "needs_background": "light"
          }
        }
      ]
    }
  ],
  "metadata": {
    "colab": {
      "collapsed_sections": [],
      "name": "Welcome To Colaboratory",
      "provenance": []
    },
    "kernelspec": {
      "display_name": "Python 3",
      "name": "python3"
    }
  },
  "nbformat": 4,
  "nbformat_minor": 0
}